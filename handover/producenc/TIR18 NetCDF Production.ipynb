{
 "cells": [
  {
   "cell_type": "markdown",
   "id": "e2c59eed",
   "metadata": {},
   "source": [
    "# TIR18 NetCDF Production\n",
    "\n",
    "The following script is used to produce a NetCDF4 file containing the data on the _TIR18_ sheet of the _Datasets_IC12_FK17_TIR18_SarahWauthy.xlsx_ file."
   ]
  },
  {
   "cell_type": "code",
   "execution_count": null,
   "id": "ad0334cf",
   "metadata": {},
   "outputs": [],
   "source": [
    "import numpy as np\n",
    "from netCDF4 import Dataset\n",
    "import pandas as pd\n",
    "import os\n",
    "import bisect"
   ]
  },
  {
   "cell_type": "markdown",
   "id": "9b5a546e",
   "metadata": {},
   "source": [
    "Files are pulled and saved from the local working directory so we use strings with directory filepaths and the os module to switch between directories for loading and saving."
   ]
  },
  {
   "cell_type": "code",
   "execution_count": null,
   "id": "80709dc4",
   "metadata": {},
   "outputs": [],
   "source": [
    "rawfiledirectory = r\"C:\\Users\\Alfie\\Desktop\\IMAS\\ncfilesraw\"\n",
    "outfiledirectory = r\"C:\\Users\\Alfie\\Desktop\\IMAS\\ncfiles\"\n",
    "os.chdir(rawfiledirectory)\n",
    "filename = 'Datasets_IC12_FK17_TIR18_SarahWauthy.xlsx'\n",
    "sheet = 'TIR18'"
   ]
  },
  {
   "cell_type": "markdown",
   "id": "49c2aac7",
   "metadata": {},
   "source": [
    "Read in the data."
   ]
  },
  {
   "cell_type": "code",
   "execution_count": null,
   "id": "4f87acba",
   "metadata": {},
   "outputs": [],
   "source": [
    "chemistry = pd.read_excel(filename, sheet_name = sheet, \n",
    "                          header=3, usecols = \"D:J\").to_numpy()"
   ]
  },
  {
   "cell_type": "markdown",
   "id": "babc373c",
   "metadata": {},
   "source": [
    "Get the agemodel depths and years into separate arrays (easier for bisect)."
   ]
  },
  {
   "cell_type": "code",
   "execution_count": null,
   "id": "25b1d2f5",
   "metadata": {},
   "outputs": [],
   "source": [
    "agedepths = pd.read_excel(filename, sheet_name = sheet, \n",
    "                          header=3, usecols = \"A\", nrows=48).squeeze()\n",
    "ageyears = pd.read_excel(filename, sheet_name = sheet, \n",
    "                         header=3, usecols = \"B\", nrows=48).squeeze()"
   ]
  },
  {
   "cell_type": "markdown",
   "id": "f950d43d",
   "metadata": {},
   "source": [
    "Sample depths actually extend beyond last value in agemodel, so this nan must be filled with a value for bisect to work."
   ]
  },
  {
   "cell_type": "code",
   "execution_count": null,
   "id": "6c1c9a12",
   "metadata": {},
   "outputs": [],
   "source": [
    "agedepths[47] = 100 ; ageyears[47] = 1969"
   ]
  },
  {
   "cell_type": "markdown",
   "id": "9ad0e371",
   "metadata": {},
   "source": [
    "Stack a zeros column (index 6) alongside the chemistry data for a year dim."
   ]
  },
  {
   "cell_type": "code",
   "execution_count": null,
   "id": "95631e09",
   "metadata": {},
   "outputs": [],
   "source": [
    "z = np.zeros((len(chemistry),1), dtype=int)\n",
    "chemistry = np.append(chemistry, z, axis=1)\n",
    "#Roll sample id to be in index 7\n",
    "chemistry = np.roll(chemistry, -1, 1)"
   ]
  },
  {
   "cell_type": "markdown",
   "id": "2f161825",
   "metadata": {},
   "source": [
    "Records which cross a depth-year boundary in the age model are split into two records with the boundary depth taking the top/bottom depth in either split, with all chemistry data being copied into both. Bisect returns the index for this depth in agedepths, giving the following index if equal to a depth-year boundary."
   ]
  },
  {
   "cell_type": "code",
   "execution_count": null,
   "id": "f20f8e8c",
   "metadata": {},
   "outputs": [],
   "source": [
    "for i in range(len(chemistry)):\n",
    "    # Get agemodel indices for top and bottom depths\n",
    "    if(not(pd.isna(chemistry[i,0]))):\n",
    "        t = bisect.bisect(agedepths, chemistry[i,0]) \n",
    "        b = bisect.bisect(agedepths, chemistry[i,1])\n",
    "        chemistry[i,6] = ageyears[t]\n",
    "        if(t != b):\n",
    "            split = chemistry[i] #duplicate the record that crosses a boundary\n",
    "            #set the top of the split sample to be the boundary, append\n",
    "            split[0] = agedepths[bisect.bisect(agedepths, chemistry[i,0])]\n",
    "            split[6] = ageyears[b] #Set new year\n",
    "            chemistry = np.vstack([chemistry, split])\n",
    "            \n",
    "            #set bottom of original sample to be the boundary\n",
    "            chemistry[i,1] = agedepths[bisect.bisect(agedepths,\n",
    "                                                     chemistry[i,0])] "
   ]
  },
  {
   "cell_type": "markdown",
   "id": "de51eb49",
   "metadata": {},
   "source": [
    "Sort in ascending order."
   ]
  },
  {
   "cell_type": "code",
   "execution_count": null,
   "id": "196f9abb",
   "metadata": {},
   "outputs": [],
   "source": [
    "chemistry = chemistry[chemistry[:, 0].argsort()]"
   ]
  },
  {
   "cell_type": "markdown",
   "id": "24b8f4ea",
   "metadata": {},
   "source": [
    "Next we change to the save directory and create a netCDF file."
   ]
  },
  {
   "cell_type": "code",
   "execution_count": null,
   "id": "69abda06",
   "metadata": {},
   "outputs": [],
   "source": [
    "os.chdir(outfiledirectory)\n",
    "ncout = Dataset('TIR18.nc','w','NETCDF4') # using netCDF3 for output format \n",
    "ncout.description = \"Preliminary TIR18 data, agemodel unconfirmed. TIR18 position: -70.499600S, 21.880170E\""
   ]
  },
  {
   "cell_type": "markdown",
   "id": "1e451a1a",
   "metadata": {},
   "source": [
    "Create the topdepth dimension and all of the chemistry variables."
   ]
  },
  {
   "cell_type": "code",
   "execution_count": null,
   "id": "94cec285",
   "metadata": {},
   "outputs": [],
   "source": [
    "ncout.createDimension('topdepth',size=None)\n",
    "yearvar = ncout.createVariable('year','int',('topdepth'))\n",
    "yearvar[:] = chemistry[:,6]\n",
    "tdvar = ncout.createVariable('topdepth','float32',('topdepth'))\n",
    "tdvar[:] = chemistry[:,0]\n",
    "thickvar = ncout.createVariable('thickness', 'float32',('topdepth'),fill_value=np.nan)\n",
    "thickvar.description = \"Thickness of this sample\"\n",
    "navar = ncout.createVariable('Na', 'float32',('topdepth'),fill_value=np.nan)\n",
    "navar.units = \"ppb\"\n",
    "navar[:] = chemistry[:,3]\n",
    "msavar = ncout.createVariable('MSA', 'float32',('topdepth'),fill_value=np.nan)\n",
    "msavar.units = \"ppb\"\n",
    "msavar[:] = chemistry[:,4]\n",
    "so4var = ncout.createVariable('SO4', 'float32',('topdepth'),fill_value=np.nan)\n",
    "so4var.units = \"ppb\"\n",
    "so4var[:] = chemistry[:,5]\n",
    "sampleidvar = ncout.createVariable('sample_id','str',('topdepth'))\n",
    "sampleidvar[:] = chemistry[:,7]"
   ]
  },
  {
   "cell_type": "markdown",
   "id": "87cd1441",
   "metadata": {},
   "source": [
    "Insert all the data."
   ]
  },
  {
   "cell_type": "code",
   "execution_count": null,
   "id": "04a9e608",
   "metadata": {},
   "outputs": [],
   "source": [
    "for i in range(len(chemistry)):\n",
    "    thickvar[i] = chemistry[i,1]-chemistry[i,0]"
   ]
  },
  {
   "cell_type": "code",
   "execution_count": null,
   "id": "ba97b33f",
   "metadata": {},
   "outputs": [],
   "source": [
    "ncout.close()"
   ]
  }
 ],
 "metadata": {
  "kernelspec": {
   "display_name": "Python 3 (ipykernel)",
   "language": "python",
   "name": "python3"
  },
  "language_info": {
   "codemirror_mode": {
    "name": "ipython",
    "version": 3
   },
   "file_extension": ".py",
   "mimetype": "text/x-python",
   "name": "python",
   "nbconvert_exporter": "python",
   "pygments_lexer": "ipython3",
   "version": "3.9.12"
  }
 },
 "nbformat": 4,
 "nbformat_minor": 5
}
