{
 "cells": [
  {
   "cell_type": "markdown",
   "id": "f68a7713",
   "metadata": {},
   "source": [
    "# Crockart_et_al_2_0 NetCDF Production\n",
    "\n",
    "The following script is used to produce a NetCDF4 file containing the data from the Crockart et al 2.0 dataset."
   ]
  },
  {
   "cell_type": "code",
   "execution_count": null,
   "id": "cccde4b6",
   "metadata": {},
   "outputs": [],
   "source": [
    "import numpy as np\n",
    "from netCDF4 import Dataset\n",
    "import pandas as pd\n",
    "import os\n",
    "import math"
   ]
  },
  {
   "cell_type": "markdown",
   "id": "a8e45d9a",
   "metadata": {},
   "source": [
    "Files are pulled and saved from the local working directory so we use strings with directory filepaths and the os module to switch between directories for loading and saving."
   ]
  },
  {
   "cell_type": "code",
   "execution_count": null,
   "id": "79ceace4",
   "metadata": {},
   "outputs": [],
   "source": [
    "rawfiledirectory = r\"C:\\Users\\Alfie\\Desktop\\IMAS\\ncfilesraw\"\n",
    "outfiledirectory = r\"C:\\Users\\Alfie\\Desktop\\IMAS\\ncfiles\"\n",
    "os.chdir(rawfiledirectory)\n",
    "filename = 'Data for Crockart et al. 2.0.xlsx'\n",
    "sheet = 'Data for Crockart et al.'"
   ]
  },
  {
   "cell_type": "markdown",
   "id": "74f6540f",
   "metadata": {},
   "source": [
    "Read in the data."
   ]
  },
  {
   "cell_type": "code",
   "execution_count": null,
   "id": "5301b521",
   "metadata": {},
   "outputs": [],
   "source": [
    "data = pd.read_excel(filename, sheet_name = sheet, nrows=43,\n",
    "                          header=None, usecols = \"A:O\").to_numpy()"
   ]
  },
  {
   "cell_type": "markdown",
   "id": "8eb11333",
   "metadata": {},
   "source": [
    "Grab the names of the variables."
   ]
  },
  {
   "cell_type": "code",
   "execution_count": null,
   "id": "60c04940",
   "metadata": {},
   "outputs": [],
   "source": [
    "names = data[0]"
   ]
  },
  {
   "cell_type": "markdown",
   "id": "47ca0298",
   "metadata": {},
   "source": [
    "Then transpose the data without variable names for output."
   ]
  },
  {
   "cell_type": "code",
   "execution_count": null,
   "id": "3091b7b4",
   "metadata": {},
   "outputs": [],
   "source": [
    "data = data[1:].transpose()"
   ]
  },
  {
   "cell_type": "markdown",
   "id": "d126972b",
   "metadata": {},
   "source": [
    "Next we change to the save directory and create a netCDF file."
   ]
  },
  {
   "cell_type": "code",
   "execution_count": null,
   "id": "f52d8b3c",
   "metadata": {},
   "outputs": [],
   "source": [
    "os.chdir(outfiledirectory)\n",
    "\n",
    "ncout = Dataset('Crockart_et_al_2_0.nc','w','NETCDF4')\n",
    "ncout.description = \"Data for Crockart et al 2.0 from https://researchdata.edu.au/el-nio-southern-brown-south/1597740 This is the data for three Mount Brown South (MBS) ice core records (Alpha, Charlie and Main) collected in summer 2017/2018 from East Anatrctica; Alpha, Charlie and Main. And an updated Law Dome (LD, Dome Summit South site) ice core record collected in 2016/2017 (extends the record presented in Vance et al. 2013). Log means log-transformed. Na means sodium, and Cl means chloride (originally both in μEq l-1, although the log-transformed values are presented here). Accum means snowfall accumulation measured in m yr-1 IE (IE stands for ice equivalent). MBS Charlie chloride and soidum values are excluded in the year 1987 as this was an outlier. These are not detrended values.\""
   ]
  },
  {
   "cell_type": "markdown",
   "id": "582010b1",
   "metadata": {},
   "source": [
    "Create and store a year dimension."
   ]
  },
  {
   "cell_type": "code",
   "execution_count": null,
   "id": "27e81821",
   "metadata": {},
   "outputs": [],
   "source": [
    "ncout.createDimension('year',size=None)\n",
    "yearvar = ncout.createVariable('year','int',('year'))\n",
    "yearvar[:] = data[0]"
   ]
  },
  {
   "cell_type": "markdown",
   "id": "ccaedc31",
   "metadata": {},
   "source": [
    "Loop through the variables and add them in."
   ]
  },
  {
   "cell_type": "code",
   "execution_count": null,
   "id": "80fa2a29",
   "metadata": {},
   "outputs": [],
   "source": [
    "for i in np.arange(1,len(names)):\n",
    "    attr = ncout.createVariable(names[i],'float32',('year'))\n",
    "    attr[:] = data[i]"
   ]
  },
  {
   "cell_type": "code",
   "execution_count": null,
   "id": "e88359db",
   "metadata": {},
   "outputs": [],
   "source": [
    "ncout.close()"
   ]
  }
 ],
 "metadata": {
  "kernelspec": {
   "display_name": "Python 3 (ipykernel)",
   "language": "python",
   "name": "python3"
  },
  "language_info": {
   "codemirror_mode": {
    "name": "ipython",
    "version": 3
   },
   "file_extension": ".py",
   "mimetype": "text/x-python",
   "name": "python",
   "nbconvert_exporter": "python",
   "pygments_lexer": "ipython3",
   "version": "3.9.12"
  }
 },
 "nbformat": 4,
 "nbformat_minor": 5
}
