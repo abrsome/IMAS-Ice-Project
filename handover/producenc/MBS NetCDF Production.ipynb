{
 "cells": [
  {
   "cell_type": "markdown",
   "id": "cdc6d8c3",
   "metadata": {},
   "source": [
    "# MBS NetCDF Production\n",
    "\n",
    "The following script is used to produce the netCDFs for the 3 MBS datasets."
   ]
  },
  {
   "cell_type": "code",
   "execution_count": null,
   "id": "0584fe22",
   "metadata": {},
   "outputs": [],
   "source": [
    "import numpy as np\n",
    "from netCDF4 import Dataset\n",
    "import pandas as pd\n",
    "import os\n",
    "import math"
   ]
  },
  {
   "cell_type": "markdown",
   "id": "27c168a6",
   "metadata": {},
   "source": [
    "Files are pulled and saved from the local working directory so we use strings with directory filepaths and the os module to switch between directories for loading and saving."
   ]
  },
  {
   "cell_type": "code",
   "execution_count": null,
   "id": "eff59e3d",
   "metadata": {},
   "outputs": [],
   "source": [
    "rawfiledirectory = r\"C:\\Users\\Alfie\\Desktop\\IMAS\\ncfilesraw\"\n",
    "outfiledirectory = r\"C:\\Users\\Alfie\\Desktop\\IMAS\\ncfiles\"\n",
    "filename = 'MBS data.xlsx'"
   ]
  },
  {
   "cell_type": "markdown",
   "id": "ace6d06e",
   "metadata": {},
   "source": [
    "Create arrays for the names of the excel sheets and the resulting netCDFs."
   ]
  },
  {
   "cell_type": "code",
   "execution_count": null,
   "id": "172320c5",
   "metadata": {},
   "outputs": [],
   "source": [
    "sheets = ['MBS Main', 'MBS Charlie', 'MBS Alpha']\n",
    "outnames = ['MBS_Main.nc', 'MBS_Charlie.nc', 'MBS_Alpha.nc']"
   ]
  },
  {
   "cell_type": "markdown",
   "id": "2b4e1745",
   "metadata": {},
   "source": [
    "Loop over the sheets."
   ]
  },
  {
   "cell_type": "code",
   "execution_count": null,
   "id": "06a1a9e7",
   "metadata": {},
   "outputs": [],
   "source": [
    "for s in range(3):\n",
    "    sheet = sheets[s]\n",
    "    \n",
    "    #Change to dir with raw data\n",
    "    os.chdir(rawfiledirectory)    \n",
    "    #Read in the chemistry data to an ndarray\n",
    "    data = pd.read_excel(filename, sheet_name = sheet,\n",
    "                              header=None, usecols = \"A:F\")\n",
    "    \n",
    "    #Rename dating as year, then swap year to col 0\n",
    "    data[2][0] = 'year'\n",
    "    data[0], data[2] = data[2], data[0]\n",
    "    \n",
    "    #Drop rows w no year\n",
    "    data = data.dropna(subset=[0])\n",
    "    data = data.to_numpy()\n",
    "    \n",
    "    names = data[0]\n",
    "    data = data[1:].transpose()\n",
    "    \n",
    "    #For some reason the ASCII in the names from the excel files causes\n",
    "    #the netcdf4 module to import the variable as a group instead of a var\n",
    "    #seems like an odd bug, but can be fixed by renaming the var names\n",
    "    names[3] = 'MSA'; names[4] = 'SO4'; names[5] = 'Na'\n",
    "    \n",
    "    #==============================================================================\n",
    "    #Output netcdf file\n",
    "    \n",
    "    os.chdir(outfiledirectory)\n",
    "    \n",
    "    ncout = Dataset(outnames[s],'w','NETCDF4')\n",
    "    if sheet == 'MBS Main':\n",
    "        ncout.description = \"Data for \" + sheet + \"from Christopher Plummer. Year taken as floor value from xlsx and dropped when nan. Note: MSA below 20 metres suffered from losses during storage - was analysed from a different core piece\"\n",
    "    else:\n",
    "        ncout.description = \"Data for \" + sheet + \"from Christopher Plummer. Year taken as floor value from xlsx and dropped when nan.\"\n",
    "        \n",
    "    ncout.createDimension('year',size=None)\n",
    "    yearvar = ncout.createVariable('year','int',('year'))\n",
    "    yearvar[:] = data[0]\n",
    "    yearvar[:] = list(map(math.floor,data[0]))\n",
    "    \n",
    "    for i in np.arange(1,len(names)):\n",
    "        if i == 2: #string for sample name\n",
    "            attr = ncout.createVariable(names[i],'str',('year'))\n",
    "        else:\n",
    "            attr = ncout.createVariable(names[i],'float32',('year'))\n",
    "        attr[:] = data[i]\n",
    "    \n",
    "    ncout.close()\n"
   ]
  }
 ],
 "metadata": {
  "kernelspec": {
   "display_name": "Python 3 (ipykernel)",
   "language": "python",
   "name": "python3"
  },
  "language_info": {
   "codemirror_mode": {
    "name": "ipython",
    "version": 3
   },
   "file_extension": ".py",
   "mimetype": "text/x-python",
   "name": "python",
   "nbconvert_exporter": "python",
   "pygments_lexer": "ipython3",
   "version": "3.9.12"
  }
 },
 "nbformat": 4,
 "nbformat_minor": 5
}
