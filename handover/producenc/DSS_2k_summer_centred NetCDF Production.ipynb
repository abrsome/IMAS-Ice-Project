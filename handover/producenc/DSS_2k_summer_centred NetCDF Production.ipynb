{
 "cells": [
  {
   "cell_type": "markdown",
   "id": "99d0f5d7",
   "metadata": {},
   "source": [
    "# DSS_summer_centred NetCDF Production\n",
    "\n",
    "The following script is used to produce a NetCDF4 file containing the data from the DSS summer chemistry dataset."
   ]
  },
  {
   "cell_type": "code",
   "execution_count": null,
   "id": "89fd2040",
   "metadata": {},
   "outputs": [],
   "source": [
    "import xarray as xr\n",
    "import numpy as np\n",
    "from netCDF4 import Dataset\n",
    "import pandas as pd\n",
    "import os\n",
    "import bisect\n",
    "import math"
   ]
  },
  {
   "cell_type": "markdown",
   "id": "4b1d9447",
   "metadata": {},
   "source": [
    "Files are pulled and saved from the local working directory so we use strings with directory filepaths and the os module to switch between directories for loading and saving."
   ]
  },
  {
   "cell_type": "code",
   "execution_count": null,
   "id": "4b7fc6d8",
   "metadata": {},
   "outputs": [],
   "source": [
    "rawfiledirectory = r\"C:\\Users\\Alfie\\Desktop\\IMAS\\ncfilesraw\"\n",
    "outfiledirectory = r\"C:\\Users\\Alfie\\Desktop\\IMAS\\ncfiles\"\n",
    "os.chdir(rawfiledirectory)\n",
    "filename = 'DSS_2k_summer_centred.csv'\n",
    "sheet = 'DSS_2k_summer_centred'"
   ]
  },
  {
   "cell_type": "markdown",
   "id": "95bb2856",
   "metadata": {},
   "source": [
    "Read in the data."
   ]
  },
  {
   "cell_type": "code",
   "execution_count": null,
   "id": "5665138d",
   "metadata": {},
   "outputs": [],
   "source": [
    "data = pd.read_csv(filename, header=0, usecols = [1,2,3]).to_numpy()"
   ]
  },
  {
   "cell_type": "markdown",
   "id": "ea355d71",
   "metadata": {},
   "source": [
    "Next we change to the save directory and create a netCDF file."
   ]
  },
  {
   "cell_type": "code",
   "execution_count": null,
   "id": "97fb8315",
   "metadata": {},
   "outputs": [],
   "source": [
    "os.chdir(outfiledirectory)\n",
    "ncout = Dataset('DSS_2k_summer_centred.nc','w','NETCDF4') # using netCDF3 for output format \n",
    "ncout.description = \"DSS_2k_summer_centred records. Years are rounded down from 2016.5 to 2016.\""
   ]
  },
  {
   "cell_type": "markdown",
   "id": "38149b75",
   "metadata": {},
   "source": [
    "Create the year dimension and all of the chemistry variables. Insert all the data."
   ]
  },
  {
   "cell_type": "code",
   "execution_count": null,
   "id": "ec6f7c32",
   "metadata": {},
   "outputs": [],
   "source": [
    "ncout.createDimension('year',size=None)\n",
    "yearvar = ncout.createVariable('year','int',('year'))\n",
    "yearvar[:] = list(map(math.floor,data[:,0]))\n",
    "nitratevar = ncout.createVariable('nitrate','float32',('year'))\n",
    "nitratevar[:] = data[:,1]\n",
    "#nitratevar.units = \"\"\n",
    "nsssulphatevar = ncout.createVariable('non_sea_salt_sulphate','float32',('year')) \n",
    "nsssulphatevar[:] = data[:,2]\n",
    "#nsssulphatevar.units = \"\""
   ]
  },
  {
   "cell_type": "code",
   "execution_count": null,
   "id": "5afa8329",
   "metadata": {},
   "outputs": [],
   "source": [
    "ncout.close()"
   ]
  }
 ],
 "metadata": {
  "kernelspec": {
   "display_name": "Python 3 (ipykernel)",
   "language": "python",
   "name": "python3"
  },
  "language_info": {
   "codemirror_mode": {
    "name": "ipython",
    "version": 3
   },
   "file_extension": ".py",
   "mimetype": "text/x-python",
   "name": "python",
   "nbconvert_exporter": "python",
   "pygments_lexer": "ipython3",
   "version": "3.9.12"
  }
 },
 "nbformat": 4,
 "nbformat_minor": 5
}
