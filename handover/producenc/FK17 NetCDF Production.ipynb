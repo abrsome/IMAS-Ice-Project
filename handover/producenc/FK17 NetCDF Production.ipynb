{
 "cells": [
  {
   "cell_type": "markdown",
   "id": "b5992d6a",
   "metadata": {},
   "source": [
    "# FK17 NetCDF Production\n",
    "\n",
    "The following script is used to produce a NetCDF4 file containing the data on the _FK17_ sheet of the _Datasets_IC12_FK17_TIR18_SarahWauthy.xlsx_ file."
   ]
  },
  {
   "cell_type": "code",
   "execution_count": null,
   "id": "667444bd",
   "metadata": {},
   "outputs": [],
   "source": [
    "import numpy as np\n",
    "from netCDF4 import Dataset\n",
    "import pandas as pd\n",
    "import os\n",
    "import bisect"
   ]
  },
  {
   "cell_type": "markdown",
   "id": "4fcc3281",
   "metadata": {},
   "source": [
    "\n",
    "Files are pulled and saved from the local working directory so we use strings with directory filepaths and the os module to switch between directories for loading and saving."
   ]
  },
  {
   "cell_type": "code",
   "execution_count": null,
   "id": "c6751619",
   "metadata": {},
   "outputs": [],
   "source": [
    "rawfiledirectory = r\"C:\\Users\\Alfie\\Desktop\\IMAS\\ncfilesraw\"\n",
    "outfiledirectory = r\"C:\\Users\\Alfie\\Desktop\\IMAS\\ncfiles\"\n",
    "os.chdir(rawfiledirectory)\n",
    "filename = 'Datasets_IC12_FK17_TIR18_SarahWauthy.xlsx'\n",
    "sheet = 'FK17'"
   ]
  },
  {
   "cell_type": "markdown",
   "id": "258d0646",
   "metadata": {},
   "source": [
    "Data is read in."
   ]
  },
  {
   "cell_type": "code",
   "execution_count": null,
   "id": "e8271c59",
   "metadata": {},
   "outputs": [],
   "source": [
    "chemistry = pd.read_excel(filename, sheet_name = sheet, \n",
    "                          header=3, usecols = \"D:J\").to_numpy()"
   ]
  },
  {
   "cell_type": "markdown",
   "id": "7eb16796",
   "metadata": {},
   "source": [
    "Get the agemodel depths and years into separate arrays (easier for bisect)"
   ]
  },
  {
   "cell_type": "code",
   "execution_count": null,
   "id": "a4887a59",
   "metadata": {},
   "outputs": [],
   "source": [
    "agedepths = pd.read_excel(filename, sheet_name = sheet, \n",
    "                          header=3, usecols = \"A\", nrows=49).squeeze()\n",
    "ageyears = pd.read_excel(filename, sheet_name = sheet, \n",
    "                         header=3, usecols = \"B\", nrows=49).squeeze()"
   ]
  },
  {
   "cell_type": "markdown",
   "id": "660e2e4f",
   "metadata": {},
   "source": [
    "Sample depths actually extend beyond last value in agemodel, so this nan must be filled with a value for bisect to work"
   ]
  },
  {
   "cell_type": "code",
   "execution_count": null,
   "id": "b4739fe1",
   "metadata": {},
   "outputs": [],
   "source": [
    "agedepths[48] = 100; ageyears[48] = 1969"
   ]
  },
  {
   "cell_type": "markdown",
   "id": "a7c33661",
   "metadata": {},
   "source": [
    "Stack a zeros column (index 6) alongside the chemistry data for a year dim"
   ]
  },
  {
   "cell_type": "code",
   "execution_count": null,
   "id": "5272bf81",
   "metadata": {},
   "outputs": [],
   "source": [
    "z = np.zeros((len(chemistry),1), dtype=int)\n",
    "chemistry = np.append(chemistry, z, axis=1)\n",
    "#Roll sample id to be in index 7\n",
    "chemistry = np.roll(chemistry, -1, 1)"
   ]
  },
  {
   "cell_type": "markdown",
   "id": "8c9795dc",
   "metadata": {},
   "source": [
    "Records which cross a depth-year boundary in the age model are split into two\n",
    "records with the boundary depth taking the top/bottom depth in either split,\n",
    "with all chemistry data being copied into both.\n",
    "Bisect returns the index for this depth in agedepths, giving the following\n",
    "index if equal to a depth-year boundary."
   ]
  },
  {
   "cell_type": "code",
   "execution_count": null,
   "id": "0498b5d3",
   "metadata": {},
   "outputs": [],
   "source": [
    "for i in range(len(chemistry)): #1142\n",
    "    # Get agemodel indices for top and bottom depths\n",
    "    if(not(pd.isna(chemistry[i,0]))):\n",
    "        t = bisect.bisect(agedepths, chemistry[i,0]) \n",
    "        b = bisect.bisect(agedepths, chemistry[i,1])\n",
    "        chemistry[i,6] = ageyears[t]\n",
    "        if(t != b):\n",
    "            split = chemistry[i] #duplicate the record that crosses a boundary\n",
    "            #set the top of the split sample to be the boundary, append\n",
    "            split[0] = agedepths[bisect.bisect(agedepths, chemistry[i,0])]\n",
    "            split[6] = ageyears[b] #Set new year\n",
    "            chemistry = np.vstack([chemistry, split])\n",
    "            \n",
    "            #set bottom of original sample to be the boundary\n",
    "            chemistry[i,1] = agedepths[bisect.bisect(agedepths,\n",
    "                                                     chemistry[i,0])] "
   ]
  },
  {
   "cell_type": "markdown",
   "id": "cd87ddb8",
   "metadata": {},
   "source": [
    "Then sort in ascending order of topdepth."
   ]
  },
  {
   "cell_type": "code",
   "execution_count": null,
   "id": "c72cb4af",
   "metadata": {},
   "outputs": [],
   "source": [
    "chemistry = chemistry[chemistry[:, 0].argsort()]"
   ]
  },
  {
   "cell_type": "markdown",
   "id": "1e82d455",
   "metadata": {},
   "source": [
    "Next we change to the save directory and create a netCDF file."
   ]
  },
  {
   "cell_type": "code",
   "execution_count": null,
   "id": "4a412c01",
   "metadata": {},
   "outputs": [],
   "source": [
    "os.chdir(outfiledirectory)\n",
    "ncout = Dataset('FK17.nc','w','NETCDF4') # using netCDF3 for output format \n",
    "ncout.description = \"Preliminary FK17 data, agemodel unconfirmed. FK17 position: -70.536501S, 24.075568E\""
   ]
  },
  {
   "cell_type": "markdown",
   "id": "b1c95f94",
   "metadata": {},
   "source": [
    "Create the topdepth dimension and all of the chemistry variables."
   ]
  },
  {
   "cell_type": "code",
   "execution_count": null,
   "id": "c9dd8445",
   "metadata": {},
   "outputs": [],
   "source": [
    "ncout.createDimension('topdepth',size=None)\n",
    "yearvar = ncout.createVariable('year','int',('topdepth'))\n",
    "yearvar[:] = chemistry[:,6]\n",
    "tdvar = ncout.createVariable('topdepth','float32',('topdepth'))\n",
    "tdvar[:] = chemistry[:,0]\n",
    "thickvar = ncout.createVariable('thickness', 'float32',('topdepth'),fill_value=np.nan)\n",
    "thickvar.description = \"Thickness of this sample\"\n",
    "navar = ncout.createVariable('Na', 'float32',('topdepth'),fill_value=np.nan)\n",
    "navar.units = \"ppb\"\n",
    "navar[:] = chemistry[:,3]\n",
    "msavar = ncout.createVariable('MSA', 'float32',('topdepth'),fill_value=np.nan)\n",
    "msavar.units = \"ppb\"\n",
    "msavar[:] = chemistry[:,4]\n",
    "so4var = ncout.createVariable('SO4', 'float32',('topdepth'),fill_value=np.nan)\n",
    "so4var.units = \"ppb\"\n",
    "so4var[:] = chemistry[:,5]\n",
    "sampleidvar = ncout.createVariable('sample_id','str',('topdepth'))\n",
    "sampleidvar[:] = chemistry[:,7]"
   ]
  },
  {
   "cell_type": "markdown",
   "id": "cf8bc702",
   "metadata": {},
   "source": [
    "Insert all the data."
   ]
  },
  {
   "cell_type": "code",
   "execution_count": null,
   "id": "a0e29dc0",
   "metadata": {},
   "outputs": [],
   "source": [
    "for i in range(len(chemistry)):\n",
    "    thickvar[i] = chemistry[i,1]-chemistry[i,0]    "
   ]
  },
  {
   "cell_type": "code",
   "execution_count": null,
   "id": "0f0f0037",
   "metadata": {},
   "outputs": [],
   "source": [
    "ncout.close()"
   ]
  }
 ],
 "metadata": {
  "kernelspec": {
   "display_name": "Python 3 (ipykernel)",
   "language": "python",
   "name": "python3"
  },
  "language_info": {
   "codemirror_mode": {
    "name": "ipython",
    "version": 3
   },
   "file_extension": ".py",
   "mimetype": "text/x-python",
   "name": "python",
   "nbconvert_exporter": "python",
   "pygments_lexer": "ipython3",
   "version": "3.9.12"
  }
 },
 "nbformat": 4,
 "nbformat_minor": 5
}
