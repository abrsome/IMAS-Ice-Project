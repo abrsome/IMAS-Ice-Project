{
 "cells": [
  {
   "cell_type": "markdown",
   "id": "80e17086",
   "metadata": {},
   "source": [
    "# DSS_2k_winter_centred NetCDF Production\n",
    "\n",
    "The following script is used to produce a NetCDF4 file containing the data from the DSS winter chemistry dataset."
   ]
  },
  {
   "cell_type": "code",
   "execution_count": null,
   "id": "13eabee6",
   "metadata": {},
   "outputs": [],
   "source": [
    "import numpy as np\n",
    "from netCDF4 import Dataset\n",
    "import pandas as pd\n",
    "import os\n",
    "import math"
   ]
  },
  {
   "cell_type": "markdown",
   "id": "96df1c2b",
   "metadata": {},
   "source": [
    "Files are pulled and saved from the local working directory so we use strings with directory filepaths and the os module to switch between directories for loading and saving."
   ]
  },
  {
   "cell_type": "code",
   "execution_count": null,
   "id": "c5fc662c",
   "metadata": {},
   "outputs": [],
   "source": [
    "rawfiledirectory = r\"C:\\Users\\Alfie\\Desktop\\IMAS\\ncfilesraw\"\n",
    "outfiledirectory = r\"C:\\Users\\Alfie\\Desktop\\IMAS\\ncfiles\"\n",
    "os.chdir(rawfiledirectory)\n",
    "filename = 'DSS_2k_winter_centred.csv'\n",
    "sheet = 'DSS_2k_winter_centred'"
   ]
  },
  {
   "cell_type": "markdown",
   "id": "25829308",
   "metadata": {},
   "source": [
    "Read in the data."
   ]
  },
  {
   "cell_type": "code",
   "execution_count": null,
   "id": "300b834b",
   "metadata": {},
   "outputs": [],
   "source": [
    "data = pd.read_csv(filename, header=0, usecols = np.arange(1,12,1)).to_numpy()"
   ]
  },
  {
   "cell_type": "markdown",
   "id": "117291af",
   "metadata": {},
   "source": [
    "Next we change to the save directory and create a netCDF file."
   ]
  },
  {
   "cell_type": "code",
   "execution_count": null,
   "id": "45f1e92b",
   "metadata": {},
   "outputs": [],
   "source": [
    "os.chdir(outfiledirectory)\n",
    "ncout = Dataset('DSS_2k_winter_centred.nc','w','NETCDF4') # using netCDF3 for output format \n",
    "ncout.description = \"DSS_2k_winter_centred records.\""
   ]
  },
  {
   "cell_type": "markdown",
   "id": "55c3b85e",
   "metadata": {},
   "source": [
    "Create a year dimension as well as the chemistry variables and insert the data.\n",
    "\n",
    "I have named all the variables manually here instead of pulling the keys out using a loop as it caused some problems with weird ASCII characters.\n",
    "The units also need filling in but need to consult and check what they actually are as some are unclear in the dataset."
   ]
  },
  {
   "cell_type": "code",
   "execution_count": null,
   "id": "4e48dbbb",
   "metadata": {},
   "outputs": [],
   "source": [
    "ncout.createDimension('year',size=None)\n",
    "yearvar = ncout.createVariable('year','int',('year'))\n",
    "yearvar[:] = list(map(math.floor,data[:,0]))\n",
    "#Need to set all units in #\n",
    "sodium = ncout.createVariable('sodium','float32',('year'))\n",
    "sodium[:] = data[:,1]\n",
    "#\n",
    "chloride = ncout.createVariable('chloride','float32',('year'))\n",
    "chloride[:] = data[:,2]\n",
    "#\n",
    "magnesium = ncout.createVariable('magnesium','float32',('year'))\n",
    "magnesium[:] = data[:,3]\n",
    "#\n",
    "sulphate = ncout.createVariable('sulphate','float32',('year'))\n",
    "sulphate[:] = data[:,4]\n",
    "#\n",
    "d180 = ncout.createVariable('d180','float32',('year'))\n",
    "d180[:] = data[:,5]\n",
    "#\n",
    "layer_thickness = ncout.createVariable('layer_thickness','float32',('year'))\n",
    "layer_thickness[:] = data[:,6]\n",
    "#\n",
    "accumulation_rate = ncout.createVariable('accumulation_rate','float32',('year'))\n",
    "accumulation_rate[:] = data[:,7]\n",
    "#\n",
    "DJFMAM = ncout.createVariable('DJFMAM','float32',('year'))\n",
    "DJFMAM[:] = data[:,8]\n",
    "#\n",
    "JJASON = ncout.createVariable('JJASON','float32',('year'))\n",
    "JJASON[:] = data[:,9]\n",
    "#\n",
    "DJFM = ncout.createVariable('DJFM','float32',('year'))\n",
    "DJFM[:] = data[:,10]\n",
    "#"
   ]
  },
  {
   "cell_type": "code",
   "execution_count": null,
   "id": "b11e73b0",
   "metadata": {},
   "outputs": [],
   "source": [
    "ncout.close()"
   ]
  }
 ],
 "metadata": {
  "kernelspec": {
   "display_name": "Python 3 (ipykernel)",
   "language": "python",
   "name": "python3"
  },
  "language_info": {
   "codemirror_mode": {
    "name": "ipython",
    "version": 3
   },
   "file_extension": ".py",
   "mimetype": "text/x-python",
   "name": "python",
   "nbconvert_exporter": "python",
   "pygments_lexer": "ipython3",
   "version": "3.9.12"
  }
 },
 "nbformat": 4,
 "nbformat_minor": 5
}
