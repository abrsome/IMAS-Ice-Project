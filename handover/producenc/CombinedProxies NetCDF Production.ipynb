{
 "cells": [
  {
   "cell_type": "markdown",
   "id": "a4febe7d",
   "metadata": {},
   "source": [
    "# CombinedProxies NetCDF Production\n",
    "\n",
    "The following script is used to produce a NetCDF4 file containing the data from all proxies combined into one file."
   ]
  },
  {
   "cell_type": "code",
   "execution_count": null,
   "id": "461320cf",
   "metadata": {},
   "outputs": [],
   "source": [
    "import xarray as xr"
   ]
  },
  {
   "cell_type": "markdown",
   "id": "c0699d50",
   "metadata": {},
   "source": [
    "Opening SIE data as a base onto which to append."
   ]
  },
  {
   "cell_type": "code",
   "execution_count": null,
   "id": "d6ff84d9",
   "metadata": {},
   "outputs": [],
   "source": [
    "folder = '~/Desktop/IMAS/ncfiles/'  #filepath\n",
    "pfile = 'Proxy_combined_data_v4.nc'  #proxy filename\n",
    "df = xr.open_dataset(folder+pfile) #.sel(year= slice(startyear, endyear))\n",
    "\n",
    "#Mean on month as WHG_dex has monthly values\n",
    "X = df[(list(df.keys())[1:])].mean('month')"
   ]
  },
  {
   "cell_type": "markdown",
   "id": "7aba5dfc",
   "metadata": {},
   "source": [
    "Merge in the DSS data. Doing a rename to indicate which proxy each variable in the resultant file came from by adding the proxy name as a prefix."
   ]
  },
  {
   "cell_type": "code",
   "execution_count": null,
   "id": "c92674fd",
   "metadata": {},
   "outputs": [],
   "source": [
    "s = xr.open_dataset(folder+'DSS_2k_summer_centred.nc')\n",
    "keys = list(s.keys())\n",
    "renamed = list(map(lambda x: 'DSS_summer_'+x, keys))\n",
    "s = s.rename(dict(zip(keys,renamed)))\n",
    "X = X.merge(s)\n",
    "\n",
    "s = xr.open_dataset(folder+'DSS_2k_winter_centred.nc')\n",
    "keys = list(s.keys())\n",
    "renamed = list(map(lambda x: 'DSS_winter_'+x, keys))\n",
    "s = s.rename(dict(zip(keys,renamed)))\n",
    "X = X.merge(s)"
   ]
  },
  {
   "cell_type": "markdown",
   "id": "89b0c22f",
   "metadata": {},
   "source": [
    "Merge in Sarah's three ice cores' data. Need to calculate avg for each year by doing weighted avg from different thickness sections in each year."
   ]
  },
  {
   "cell_type": "code",
   "execution_count": null,
   "id": "cf4e7038",
   "metadata": {},
   "outputs": [],
   "source": [
    "cores = ['TIR18', 'FK17','IC12']\n",
    "proxies = ['MSA','Na','SO4']\n",
    "for c in range(3): #3 cores\n",
    "    cdata = xr.open_dataset(folder+cores[c]+'.nc')        \n",
    "    for p in range(3): #3 proxies\n",
    "        proxy = proxies[p]\n",
    "    \n",
    "        # Do thickness weighting for the proxy.\n",
    "        for i in range(len(cdata['topdepth'])):\n",
    "            cdata[proxy][i] = cdata['thickness'][i]*cdata[proxy][i]\n",
    "        \n",
    "        cdata = cdata.rename({proxy: cores[c]+'_'+proxy})\n",
    "    cdata = cdata.groupby(\"year\").mean()\n",
    "    cdata = cdata.drop_vars('thickness')\n",
    "    #Due to cutoff in age model, remove first year as that contains\n",
    "    # all values beyond the age model and so is incorrect\n",
    "    cdata = cdata.drop_sel(year=cdata.get_index('year')[0])\n",
    "    X = X.merge(cdata)"
   ]
  },
  {
   "cell_type": "markdown",
   "id": "7f04443c",
   "metadata": {},
   "source": [
    "Merge in the MBS data, dropping the sample names and mid depths so we can do an avg for other chemistry on the year dimension."
   ]
  },
  {
   "cell_type": "code",
   "execution_count": null,
   "id": "a2751cc8",
   "metadata": {},
   "outputs": [],
   "source": [
    "mbsdata = ['MBS_Main','MBS_Alpha','MBS_Charlie']\n",
    "for c in range(3):\n",
    "    ds = mbsdata[c]\n",
    "    s = xr.open_dataset(folder+ds+'.nc')    \n",
    "    s = s.drop_vars(['Mid Depth','Sample name'])\n",
    "    keys = list(s.keys())\n",
    "    renamed = list(map(lambda x: ds+'_'+x, keys))\n",
    "    s = s.rename(dict(zip(keys,renamed))).groupby('year').mean()\n",
    "    X = X.merge(s)"
   ]
  },
  {
   "cell_type": "markdown",
   "id": "0665a3b9",
   "metadata": {},
   "source": [
    "Merge in Crockart et al data."
   ]
  },
  {
   "cell_type": "code",
   "execution_count": null,
   "id": "10acfd85",
   "metadata": {},
   "outputs": [],
   "source": [
    "X = X.merge(xr.open_dataset(folder+'Crockart_et_al_2_0.nc'))"
   ]
  },
  {
   "cell_type": "markdown",
   "id": "56515610",
   "metadata": {},
   "source": [
    "Save the combined proxies file."
   ]
  },
  {
   "cell_type": "code",
   "execution_count": null,
   "id": "69546cc9",
   "metadata": {},
   "outputs": [],
   "source": [
    "CombinedProxies = X\n",
    "filedirectory = r\"C:\\Users\\Alfie\\Desktop\\IMAS\\ncfiles\\CombinedProxies.nc\"\n",
    "CombinedProxies.to_netcdf(filedirectory)"
   ]
  }
 ],
 "metadata": {
  "kernelspec": {
   "display_name": "Python 3 (ipykernel)",
   "language": "python",
   "name": "python3"
  },
  "language_info": {
   "codemirror_mode": {
    "name": "ipython",
    "version": 3
   },
   "file_extension": ".py",
   "mimetype": "text/x-python",
   "name": "python",
   "nbconvert_exporter": "python",
   "pygments_lexer": "ipython3",
   "version": "3.9.12"
  }
 },
 "nbformat": 4,
 "nbformat_minor": 5
}
