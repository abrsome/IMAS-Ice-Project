{
 "cells": [
  {
   "cell_type": "markdown",
   "id": "5e80904f",
   "metadata": {},
   "source": [
    "# IC12 NetCDF Production\n",
    "\n",
    "The following script is used to produce a NetCDF4 file containing the data on the _IC12_ sheet of the _Datasets_IC12_FK17_TIR18_SarahWauthy.xlsx_ file."
   ]
  },
  {
   "cell_type": "code",
   "execution_count": 1,
   "id": "3ec30bd7",
   "metadata": {},
   "outputs": [],
   "source": [
    "import xarray as xr\n",
    "import numpy as np\n",
    "from netCDF4 import Dataset\n",
    "import pandas as pd\n",
    "import os\n",
    "import bisect\n",
    "import matplotlib.pyplot as plt"
   ]
  },
  {
   "cell_type": "markdown",
   "id": "84336243",
   "metadata": {},
   "source": [
    "Files are pulled and saved from the local working directory so we use strings with directory filepaths and the os module to switch between directories for loading and saving."
   ]
  },
  {
   "cell_type": "code",
   "execution_count": 2,
   "id": "43164da6",
   "metadata": {},
   "outputs": [],
   "source": [
    "rawfiledirectory = r\"C:\\Users\\Alfie\\Desktop\\IMAS\\ncfilesraw\"\n",
    "outfiledirectory = r\"C:\\Users\\Alfie\\Desktop\\IMAS\\ncfiles\"\n",
    "os.chdir(rawfiledirectory)\n",
    "filename = 'Datasets_IC12_FK17_TIR18_SarahWauthy.xlsx'\n",
    "sheet = 'IC12'"
   ]
  },
  {
   "cell_type": "markdown",
   "id": "db4b4acd",
   "metadata": {},
   "source": [
    "The data is read in and empty rows are removed."
   ]
  },
  {
   "cell_type": "code",
   "execution_count": 3,
   "id": "9175c689",
   "metadata": {},
   "outputs": [],
   "source": [
    "chemistry = pd.read_excel(filename, sheet_name = sheet, \n",
    "                          header=3, usecols = \"E:J\").to_numpy()\n",
    "chemistry = chemistry[~np.isnan(chemistry).all(axis=1), :]"
   ]
  },
  {
   "cell_type": "markdown",
   "id": "6543987c",
   "metadata": {},
   "source": [
    "Manual delete of row 773 as there seems to be an incorrect record at 780 in xlsx and it messes up the operations ahead if not removed."
   ]
  },
  {
   "cell_type": "code",
   "execution_count": 4,
   "id": "da4f1bf6",
   "metadata": {},
   "outputs": [],
   "source": [
    "if(sheet == 'IC12'):\n",
    "    chemistry = np.delete(chemistry,773,axis=0)"
   ]
  },
  {
   "cell_type": "markdown",
   "id": "03c98f07",
   "metadata": {},
   "source": [
    "Get the agemodel depths and years into separate arrays (easier for bisect)"
   ]
  },
  {
   "cell_type": "code",
   "execution_count": 5,
   "id": "a40eed3c",
   "metadata": {},
   "outputs": [],
   "source": [
    "agedepths = pd.read_excel(filename, sheet_name = sheet, \n",
    "                          header=3, usecols = \"A\", nrows=270).squeeze()\n",
    "ageyears = pd.read_excel(filename, sheet_name = sheet, \n",
    "                         header=3, usecols = \"B\", nrows=270).squeeze()"
   ]
  },
  {
   "cell_type": "markdown",
   "id": "7bd3acb7",
   "metadata": {},
   "source": [
    "Stack a zeros column (index 6) alongside the chemistry data for a year dimension"
   ]
  },
  {
   "cell_type": "code",
   "execution_count": 6,
   "id": "0fccc5ba",
   "metadata": {},
   "outputs": [],
   "source": [
    "z = np.zeros((len(chemistry),1), dtype=int)\n",
    "chemistry = np.append(chemistry, z, axis=1)"
   ]
  },
  {
   "cell_type": "markdown",
   "id": "450e3626",
   "metadata": {},
   "source": [
    "Records which cross a depth-year boundary in the age model are split into two records with the boundary depth being used as the top/bottom depth in the two respective splits, with all chemistry data being copied into both. Bisect returns the index for this depth in agedepths, giving the following index if equal to a depth-year boundary."
   ]
  },
  {
   "cell_type": "code",
   "execution_count": null,
   "id": "a141690a",
   "metadata": {},
   "outputs": [],
   "source": [
    "for i in range(len(chemistry)):\n",
    "    # Get agemodel indices for top and bottom depths\n",
    "    if(not(pd.isna(chemistry[i,0]))):\n",
    "        t = bisect.bisect(agedepths, chemistry[i,0]) \n",
    "        b = bisect.bisect(agedepths, chemistry[i,1])\n",
    "        chemistry[i,6] = ageyears[t]\n",
    "        if(t != b):\n",
    "            split = chemistry[i] #duplicate the record that crosses a boundary\n",
    "            #set the top of the split sample to be the boundary, append\n",
    "            split[0] = agedepths[bisect.bisect(agedepths, chemistry[i,0])]\n",
    "            split[6] = ageyears[b] #Set new year\n",
    "            chemistry = np.vstack([chemistry, split])\n",
    "            \n",
    "            #set bottom of original sample to be the boundary\n",
    "            chemistry[i,1] = agedepths[bisect.bisect(agedepths,\n",
    "                                                     chemistry[i,0])] "
   ]
  },
  {
   "cell_type": "markdown",
   "id": "c55b6818",
   "metadata": {},
   "source": [
    "Then sort in ascending order of topdepth."
   ]
  },
  {
   "cell_type": "code",
   "execution_count": null,
   "id": "b968aa77",
   "metadata": {},
   "outputs": [],
   "source": [
    "chemistry = chemistry[chemistry[:, 0].argsort()]"
   ]
  },
  {
   "cell_type": "markdown",
   "id": "d9575641",
   "metadata": {},
   "source": [
    "Next we change to the save directory and create a netCDF file."
   ]
  },
  {
   "cell_type": "code",
   "execution_count": null,
   "id": "0a5b60e4",
   "metadata": {},
   "outputs": [],
   "source": [
    "os.chdir(outfiledirectory)\n",
    "ncout = Dataset('IC12.nc','w','NETCDF4') # using netCDF3 for output format \n",
    "ncout.description = \"IC12 ice core chemical records, published in Philippe et al., 2016. IC12 position: -70.234690S, 26.334900E\""
   ]
  },
  {
   "cell_type": "markdown",
   "id": "1e470c36",
   "metadata": {},
   "source": [
    "Create the topdepth dimension and all of the chemistry variables."
   ]
  },
  {
   "cell_type": "code",
   "execution_count": null,
   "id": "2adf237b",
   "metadata": {},
   "outputs": [],
   "source": [
    "ncout.createDimension('topdepth',size=None)\n",
    "yearvar = ncout.createVariable('year','int',('topdepth'))\n",
    "yearvar[:] = chemistry[:,6]\n",
    "tdvar = ncout.createVariable('topdepth','float32',('topdepth'))\n",
    "tdvar[:] = chemistry[:,0]\n",
    "thickvar = ncout.createVariable('thickness', 'float32',('topdepth'),fill_value=np.nan)\n",
    "thickvar.description = \"Thickness of this sample\"\n",
    "navar = ncout.createVariable('Na', 'float32',('topdepth'),fill_value=np.nan)\n",
    "navar.units = \"ppb\"\n",
    "msavar = ncout.createVariable('MSA', 'float32',('topdepth'),fill_value=np.nan)\n",
    "msavar.units = \"ppb\"\n",
    "so4var = ncout.createVariable('SO4', 'float32',('topdepth'),fill_value=np.nan)\n",
    "so4var.units = \"ppb\""
   ]
  },
  {
   "cell_type": "markdown",
   "id": "8a0bcd10",
   "metadata": {},
   "source": [
    "Insert all the data."
   ]
  },
  {
   "cell_type": "code",
   "execution_count": null,
   "id": "208d58f6",
   "metadata": {},
   "outputs": [],
   "source": [
    "for i in range(len(chemistry)):\n",
    "    thickvar[i] = chemistry[i,1]-chemistry[i,0]\n",
    "    navar[i] = chemistry[i,3]    \n",
    "    msavar[i] = chemistry[i,4]\n",
    "    so4var[i] = chemistry[i,5]"
   ]
  },
  {
   "cell_type": "code",
   "execution_count": null,
   "id": "6648251b",
   "metadata": {},
   "outputs": [],
   "source": [
    "ncout.close()"
   ]
  }
 ],
 "metadata": {
  "kernelspec": {
   "display_name": "Python 3 (ipykernel)",
   "language": "python",
   "name": "python3"
  },
  "language_info": {
   "codemirror_mode": {
    "name": "ipython",
    "version": 3
   },
   "file_extension": ".py",
   "mimetype": "text/x-python",
   "name": "python",
   "nbconvert_exporter": "python",
   "pygments_lexer": "ipython3",
   "version": "3.9.12"
  }
 },
 "nbformat": 4,
 "nbformat_minor": 5
}
