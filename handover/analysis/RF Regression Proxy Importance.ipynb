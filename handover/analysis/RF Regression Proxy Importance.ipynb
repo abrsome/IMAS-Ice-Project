{
 "cells": [
  {
   "cell_type": "markdown",
   "id": "e3969ee6",
   "metadata": {},
   "source": [
    "# RF Regression Proxy Importance\n",
    "\n",
    "This script is designed to show the method for generating importance heatmaps for each of the proxies in a RF."
   ]
  },
  {
   "cell_type": "code",
   "execution_count": null,
   "id": "68df33df",
   "metadata": {},
   "outputs": [],
   "source": [
    "import pandas as pd\n",
    "import numpy as np\n",
    "import xarray as xr\n",
    "import matplotlib.pyplot as plt\n",
    "from sklearn import metrics"
   ]
  },
  {
   "cell_type": "markdown",
   "id": "d6c29284",
   "metadata": {},
   "source": [
    "Read in data from specified years, get a list of proxy names."
   ]
  },
  {
   "cell_type": "code",
   "execution_count": null,
   "id": "4393b3a8",
   "metadata": {},
   "outputs": [],
   "source": [
    "startyear = 1979\n",
    "endyear = 1995\n",
    "yvar = 'SIE'\n",
    "\n",
    "folder = '~/Desktop/IMAS/ncfiles/'  #filepath\n",
    "pfile = 'Proxy_combined_data_v4.nc'  #proxy filename\n",
    "df = xr.open_dataset(folder+pfile).sel(year= slice(startyear, endyear))\n",
    "columns = (list(df.keys())[1:])"
   ]
  },
  {
   "cell_type": "markdown",
   "id": "5498d0a4",
   "metadata": {},
   "source": [
    "Create train and test year lists."
   ]
  },
  {
   "cell_type": "code",
   "execution_count": null,
   "id": "1d1f85c8",
   "metadata": {},
   "outputs": [],
   "source": [
    "years = np.arange(startyear, endyear+1)\n",
    "testyears = np.sort(np.random.choice(years, size = int(len(years)*0.33), replace = False))\n",
    "trainyears = [x for x in years if x not in testyears]"
   ]
  },
  {
   "cell_type": "markdown",
   "id": "ded6e85e",
   "metadata": {},
   "source": [
    "Create an array to store importances."
   ]
  },
  {
   "cell_type": "code",
   "execution_count": null,
   "id": "f30bf864",
   "metadata": {},
   "outputs": [],
   "source": [
    "importancesarray = [[] for _ in range(len(columns))]\n",
    "importancesarray[0] = np.zeros([12,36])\n",
    "for p in range(len(columns)):\n",
    "    importancesarray[p] = np.zeros([12,36])"
   ]
  },
  {
   "cell_type": "markdown",
   "id": "504a3617",
   "metadata": {},
   "source": [
    "Create train, test sets for the predictors and standard scale them."
   ]
  },
  {
   "cell_type": "code",
   "execution_count": null,
   "id": "d28ede8e",
   "metadata": {},
   "outputs": [],
   "source": [
    "X = df[(list(df.keys())[1:])].mean('month')\n",
    "X_train = X.sel(year = trainyears).to_dataframe().values\n",
    "X_test = X.sel(year = testyears).to_dataframe().values\n",
    "\n",
    "#Standardise values\n",
    "from sklearn.preprocessing import StandardScaler\n",
    "sc = StandardScaler()\n",
    "X_train = sc.fit_transform(X_train)\n",
    "X_test = sc.transform(X_test)"
   ]
  },
  {
   "cell_type": "markdown",
   "id": "d87f2936",
   "metadata": {},
   "source": [
    "Log the importances at each prediction. Note that this script uses the _individual_ mode of a new RF for each month/lon intersection."
   ]
  },
  {
   "cell_type": "code",
   "execution_count": null,
   "id": "c83641bd",
   "metadata": {},
   "outputs": [],
   "source": [
    "for m in range(12): #loop over the months\n",
    "    m+=1\n",
    "    months = [(m-3)%12+1, (m-2)%12+1, (m-1)%12+1] #nonneg month ints for season ending in m\n",
    "    monat = df[yvar].sel(month=months) #overlapping years w/ WHG    \n",
    "    monat = monat.mean('month')\n",
    "    for l in np.arange(0.25,360,10): #loop over the longitudes\n",
    "        y = monat.sel(lon= slice(l, l+10)).mean(dim='lon')\n",
    "        y_train = y.sel(year = trainyears).to_dataframe().values\n",
    "        y_test = y.sel(year = testyears).to_dataframe().values\n",
    "        \n",
    "        #Training model\n",
    "        from sklearn.ensemble import RandomForestRegressor\n",
    "        regressor = RandomForestRegressor(n_estimators = 20, random_state = 0)\n",
    "        regressor.fit(X_train, y_train)\n",
    "        importances = pd.Series(regressor.feature_importances_, index=columns)\n",
    "        for p in range(len(columns)):\n",
    "            importancesarray[p][m-1,int((l-0.25)/10)] = importances[p]"
   ]
  },
  {
   "cell_type": "markdown",
   "id": "5fa1d710",
   "metadata": {},
   "source": [
    "Find the max level of importance for use in the colour levels."
   ]
  },
  {
   "cell_type": "code",
   "execution_count": null,
   "id": "97a7f7af",
   "metadata": {},
   "outputs": [],
   "source": [
    "maximportances = np.zeros(len(columns))\n",
    "for i in range(len(columns)):\n",
    "    maximportances[i] = importancesarray[i].max()"
   ]
  },
  {
   "cell_type": "markdown",
   "id": "0d8ef9c5",
   "metadata": {},
   "source": [
    "Then plot the heatmaps."
   ]
  },
  {
   "cell_type": "code",
   "execution_count": null,
   "id": "70fceffa",
   "metadata": {},
   "outputs": [],
   "source": [
    "for p in range(len(columns)):\n",
    "    ax = plt.subplot()\n",
    "    \n",
    "    clev = np.arange(0,round(maximportances.max(),1)+.1,.1)  #contour levels\n",
    "    importancexr = xr.DataArray(importancesarray[p])\n",
    "    importancexr.plot.pcolormesh(levels = clev, cmap = 'inferno')\n",
    "    \n",
    "    ax.set_title(columns[p] +' importance in in SIE RF prediction.')\n",
    "    ax.set_ylabel('Season')\n",
    "    ax.set_xlabel('Longitude')\n",
    "    seasons = ['OND','NDJ','DJF','JFM','FMA','MAM','AMJ','MJJ','JJA','JAS','ASO','SON','OND']\n",
    "    ax.set_xticks(ticks=np.arange(3,36,3), labels=['','60E','','120E','','180','','120W','','60W',''])\n",
    "    ax.set_yticks(ticks=np.arange(-0.5,12,1), labels=seasons, rotation=0)\n",
    "    \n",
    "    plt.show()"
   ]
  }
 ],
 "metadata": {
  "kernelspec": {
   "display_name": "Python 3 (ipykernel)",
   "language": "python",
   "name": "python3"
  },
  "language_info": {
   "codemirror_mode": {
    "name": "ipython",
    "version": 3
   },
   "file_extension": ".py",
   "mimetype": "text/x-python",
   "name": "python",
   "nbconvert_exporter": "python",
   "pygments_lexer": "ipython3",
   "version": "3.9.12"
  }
 },
 "nbformat": 4,
 "nbformat_minor": 5
}
