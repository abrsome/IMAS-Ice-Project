{
 "cells": [
  {
   "cell_type": "markdown",
   "id": "e907bc3a",
   "metadata": {},
   "source": [
    "# SIE Proxy Correlation\n",
    "\n",
    "This script is for producing heatmaps to show the correlation between SIE and the proxies within the _Proxy_combined_data_v4_ dataset."
   ]
  },
  {
   "cell_type": "code",
   "execution_count": null,
   "id": "4e835742",
   "metadata": {},
   "outputs": [],
   "source": [
    "import seaborn as sns\n",
    "import matplotlib.pyplot as plt\n",
    "import numpy as np\n",
    "import xarray as xr\n",
    "from scipy import stats\n",
    "from datetime import datetime"
   ]
  },
  {
   "cell_type": "markdown",
   "id": "89d54697",
   "metadata": {},
   "source": [
    "Create an array of 3-month season acronyms."
   ]
  },
  {
   "cell_type": "code",
   "execution_count": null,
   "id": "73c61631",
   "metadata": {},
   "outputs": [],
   "source": [
    "seasons = ['OND','NDJ','DJF','JFM','FMA','MAM','AMJ','MJJ','JJA','JAS','ASO','SON','OND']"
   ]
  },
  {
   "cell_type": "markdown",
   "id": "737a6582",
   "metadata": {},
   "source": [
    "Read in the data."
   ]
  },
  {
   "cell_type": "code",
   "execution_count": null,
   "id": "2c727f15",
   "metadata": {},
   "outputs": [],
   "source": [
    "folder = '~/Desktop/IMAS/ncfiles/'  #filepath\n",
    "pfile = 'Proxy_combined_data_v4.nc'  #proxy filename\n",
    "pvar = 'SIE'  #proxy sea ice extent variable name\n",
    "pdata = xr.open_dataset(folder+pfile) #open proxy as Dataset"
   ]
  },
  {
   "cell_type": "markdown",
   "id": "7ac27e63",
   "metadata": {},
   "source": [
    "Initialise an empty array to store the correlations."
   ]
  },
  {
   "cell_type": "code",
   "execution_count": null,
   "id": "a6df8678",
   "metadata": {},
   "outputs": [],
   "source": [
    "corrs = np.zeros([12,36])"
   ]
  },
  {
   "cell_type": "markdown",
   "id": "9b4411fc",
   "metadata": {},
   "source": [
    "Fix the start year. Then create arrays of the proxy names and respective end years."
   ]
  },
  {
   "cell_type": "code",
   "execution_count": null,
   "id": "5d1e2d62",
   "metadata": {},
   "outputs": [],
   "source": [
    "proxies = ['AP_stacked_MSA', 'Law_Dome_MSA', 'Ferrigno_MSA','WHG_dex','SOFI_formation','SOFI_breakout','SOFI_duration']\n",
    "endyears = [2002,1995,2010,2006,2008,2008,2008]"
   ]
  },
  {
   "cell_type": "markdown",
   "id": "b7d51106",
   "metadata": {},
   "source": [
    "Now loop through the seven proxies, logging a correlation value at each season/longitude intersection before plotting the heatmap."
   ]
  },
  {
   "cell_type": "code",
   "execution_count": null,
   "id": "beb613b8",
   "metadata": {},
   "outputs": [],
   "source": [
    "for i in range(7):\n",
    "    \n",
    "    proxy = proxies[i]\n",
    "    endyear = endyears[i]\n",
    "    \n",
    "    if proxy=='WHG_dex':\n",
    "        pts = pdata[proxy].sel(year = slice(startyear,endyear))\n",
    "        pts = pts.mean('month')\n",
    "    else:\n",
    "        pts = pdata[proxy].sel(year = slice(startyear,endyear)) \n",
    "\n",
    "    \n",
    "    #Creating time series over months\n",
    "    for m in range(12): #loop over the months\n",
    "        m+=1\n",
    "        months = [(m-3)%12+1, (m-2)%12+1, (m-1)%12+1] #nonneg month ints for season ending in m\n",
    "        monat = pdata[pvar].sel(year = slice(startyear,endyear), month=months) \n",
    "        monat = monat.mean('month')\n",
    "        for l in np.arange(0.25,360,10): #loop over the longitudes\n",
    "            sie = monat.sel(lon= slice(l, l+10)) \n",
    "            sie = sie.mean(dim='lon')\n",
    "            corrs[m-1,int((l-0.25)/10)] = stats.pearsonr(pts,sie)[0] #Place corcoef in corrs\n",
    "    \n",
    "    ax = plt.subplot()\n",
    "    \n",
    "    clev = [-0.8,-0.7,-0.6,-0.5,-0.4,0.4,0.5,0.6,0.7,0.8]  #contour levels\n",
    "    #clev = np.arange(-1, 1.1, 0.1)\n",
    "    corrsxr = xr.DataArray(corrs)\n",
    "    corrsxr.plot.pcolormesh(levels = clev)\n",
    "    \n",
    "    ax.set_title(proxy)\n",
    "    ax.set_ylabel('Season')\n",
    "    #plt.yticks(ticks=np.arange(12))\n",
    "    ax.set_xlabel('Longitude')\n",
    "    ax.set_xticks(ticks=np.arange(3,36,3), labels=['','60E','','120E','','180','','120W','','60W',''])\n",
    "    ax.set_yticks(ticks=np.arange(-0.5,12,1), labels=seasons, rotation=0)\n",
    "    \n",
    "    plt.show()"
   ]
  },
  {
   "cell_type": "markdown",
   "id": "7690f7c1",
   "metadata": {},
   "source": [
    "__Note on seasonality:__ Pearson correlation of a time series for a given month will consider effect of annual changes. We will not see the effect of seasonality as correlation coefficients of months are calculated independently."
   ]
  }
 ],
 "metadata": {
  "kernelspec": {
   "display_name": "Python 3 (ipykernel)",
   "language": "python",
   "name": "python3"
  },
  "language_info": {
   "codemirror_mode": {
    "name": "ipython",
    "version": 3
   },
   "file_extension": ".py",
   "mimetype": "text/x-python",
   "name": "python",
   "nbconvert_exporter": "python",
   "pygments_lexer": "ipython3",
   "version": "3.9.12"
  }
 },
 "nbformat": 4,
 "nbformat_minor": 5
}
