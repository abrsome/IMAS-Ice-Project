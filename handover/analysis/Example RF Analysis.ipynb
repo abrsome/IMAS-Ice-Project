{
 "cells": [
  {
   "cell_type": "markdown",
   "id": "f013dcc6",
   "metadata": {},
   "source": [
    "# Example RF Analysis\n",
    "\n",
    "This script builds a very simple RandomForestRegressor from the sci-kitlearn library and shows how to do some basic analysis on it."
   ]
  },
  {
   "cell_type": "markdown",
   "id": "0e398c81",
   "metadata": {},
   "source": [
    "\n",
    "### Building the model"
   ]
  },
  {
   "cell_type": "code",
   "execution_count": null,
   "id": "a0111aa2",
   "metadata": {},
   "outputs": [],
   "source": [
    "import pandas as pd\n",
    "import numpy as np\n",
    "import xarray as xr"
   ]
  },
  {
   "cell_type": "markdown",
   "id": "429994e9",
   "metadata": {},
   "source": [
    "Read in the data from a specified section of years, and average it to a yearly value."
   ]
  },
  {
   "cell_type": "code",
   "execution_count": null,
   "id": "a979baac",
   "metadata": {},
   "outputs": [],
   "source": [
    "startyear = 1979\n",
    "endyear = 1995\n",
    "\n",
    "folder = '~/Desktop/IMAS/'  #filepath\n",
    "pfile = 'Proxy_combined_data_v4.nc'  #proxy filename\n",
    "df = xr.open_dataset(folder+pfile).sel(year= slice(startyear, endyear))\n",
    "df = df.mean('lon').mean('month')\n",
    "df = df.to_dataframe()\n",
    "df.reset_index(inplace=True)"
   ]
  },
  {
   "cell_type": "markdown",
   "id": "f6558d87",
   "metadata": {},
   "source": [
    "Get the mean SIE, and partition the data into dependent and predictor variables."
   ]
  },
  {
   "cell_type": "code",
   "execution_count": null,
   "id": "8ff3520a",
   "metadata": {},
   "outputs": [],
   "source": [
    "mean_sie = df['SIE'].mean()\n",
    "\n",
    "X = df.iloc[:, 2:8].values\n",
    "y = df.iloc[:, 1].values"
   ]
  },
  {
   "cell_type": "markdown",
   "id": "0a2be581",
   "metadata": {},
   "source": [
    "Split the data into train and test sets, and then preprocess it with a standard scaler."
   ]
  },
  {
   "cell_type": "code",
   "execution_count": null,
   "id": "db8dd932",
   "metadata": {},
   "outputs": [],
   "source": [
    "from sklearn.model_selection import train_test_split\n",
    "X_train, X_test, y_train, y_test = train_test_split(X, y, test_size = 0.2,\n",
    "                                                    random_state = 0)\n",
    "\n",
    "#Standardise values\n",
    "from sklearn.preprocessing import StandardScaler\n",
    "sc = StandardScaler()\n",
    "X_train = sc.fit_transform(X_train)\n",
    "X_test = sc.transform(X_test)"
   ]
  },
  {
   "cell_type": "markdown",
   "id": "c538d7a2",
   "metadata": {},
   "source": [
    "Train the model and generate a prediction."
   ]
  },
  {
   "cell_type": "code",
   "execution_count": null,
   "id": "02cba468",
   "metadata": {},
   "outputs": [],
   "source": [
    "from sklearn.ensemble import RandomForestRegressor\n",
    "regressor = RandomForestRegressor(n_estimators = 50, random_state = 0)\n",
    "regressor.fit(X_train, y_train)\n",
    "y_pred = regressor.predict(X_test)"
   ]
  },
  {
   "cell_type": "markdown",
   "id": "741f241a",
   "metadata": {},
   "source": [
    "---\n",
    "### Analysing the model"
   ]
  },
  {
   "cell_type": "markdown",
   "id": "ee079f05",
   "metadata": {},
   "source": [
    "Generate some metrics on error."
   ]
  },
  {
   "cell_type": "code",
   "execution_count": null,
   "id": "b884676a",
   "metadata": {},
   "outputs": [],
   "source": [
    "from sklearn import metrics\n",
    "\n",
    "rmse = np.sqrt(metrics.mean_squared_error(y_test, y_pred))\n",
    "print('Mean Absolute Error:', metrics.mean_absolute_error(y_test, y_pred))\n",
    "print('Mean Squared Error:', metrics.mean_squared_error(y_test, y_pred))\n",
    "print('Root Mean Squared Error:', rmse)\n",
    "print('RMSE % of mean:', 100*rmse/mean_sie)"
   ]
  },
  {
   "cell_type": "markdown",
   "id": "ba6705b4",
   "metadata": {},
   "source": [
    "Plot a tree from the model."
   ]
  },
  {
   "cell_type": "code",
   "execution_count": null,
   "id": "1d5328f7",
   "metadata": {},
   "outputs": [],
   "source": [
    "import matplotlib.pyplot as plt\n",
    "from sklearn.tree import plot_tree\n",
    "\n",
    "fig = plt.figure(figsize = (15,10))\n",
    "plot_tree(regressor.estimators_[0],\n",
    "          feature_names = df.iloc[:, 2:8].columns,\n",
    "          class_names = df['SIE'].unique(),\n",
    "          filled = True, rounded = True)\n",
    "\n",
    "plt.show()"
   ]
  },
  {
   "cell_type": "markdown",
   "id": "64e34627",
   "metadata": {},
   "source": [
    "Rank the importances of the proxies in the model."
   ]
  },
  {
   "cell_type": "code",
   "execution_count": null,
   "id": "3739c7a9",
   "metadata": {},
   "outputs": [],
   "source": [
    "importances = pd.Series(regressor.feature_importances_, index=df.iloc[:, 2:8].columns)\n",
    "importances = importances.sort_values(ascending=False)\n",
    "print(importances)"
   ]
  }
 ],
 "metadata": {
  "kernelspec": {
   "display_name": "Python 3 (ipykernel)",
   "language": "python",
   "name": "python3"
  },
  "language_info": {
   "codemirror_mode": {
    "name": "ipython",
    "version": 3
   },
   "file_extension": ".py",
   "mimetype": "text/x-python",
   "name": "python",
   "nbconvert_exporter": "python",
   "pygments_lexer": "ipython3",
   "version": "3.9.12"
  }
 },
 "nbformat": 4,
 "nbformat_minor": 5
}
