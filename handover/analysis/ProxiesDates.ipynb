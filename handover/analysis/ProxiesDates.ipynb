{
 "cells": [
  {
   "cell_type": "markdown",
   "id": "50260482",
   "metadata": {},
   "source": [
    "# ProxiesDates\n",
    "\n",
    "This script is designed to produce a table containing the start and end years of each proxy in the CombinedProxies dataset. It also allows you to specify a start year and shows the number of proxies which have complete (no NaN) records from that year to a specified range of end years.\n",
    "\n",
    "---\n",
    "### Getting a table of proxy start/end years"
   ]
  },
  {
   "cell_type": "code",
   "execution_count": 1,
   "id": "45389e16",
   "metadata": {},
   "outputs": [],
   "source": [
    "import numpy as np\n",
    "import xarray as xr\n",
    "import pandas as pd"
   ]
  },
  {
   "cell_type": "markdown",
   "id": "2a89ccb4",
   "metadata": {},
   "source": [
    "Establish filepath and open the dataset."
   ]
  },
  {
   "cell_type": "code",
   "execution_count": 2,
   "id": "f522b424",
   "metadata": {},
   "outputs": [],
   "source": [
    "folder = '~/Desktop/IMAS/ncfiles/'  #filepath\n",
    "xfile = 'CombinedProxies.nc'  #proxy filename\n",
    "\n",
    "X = xr.open_dataset(folder+xfile)"
   ]
  },
  {
   "cell_type": "markdown",
   "id": "e8338119",
   "metadata": {},
   "source": [
    "Get a list of the proxy names."
   ]
  },
  {
   "cell_type": "code",
   "execution_count": 3,
   "id": "b62a550b",
   "metadata": {},
   "outputs": [],
   "source": [
    "proxiesnames = list(X.keys())"
   ]
  },
  {
   "cell_type": "markdown",
   "id": "fead9987",
   "metadata": {},
   "source": [
    "Initialise empty arrays to store the start and end years."
   ]
  },
  {
   "cell_type": "code",
   "execution_count": 4,
   "id": "02cb83fe",
   "metadata": {},
   "outputs": [],
   "source": [
    "starts = np.zeros(len(proxiesnames))\n",
    "ends = np.zeros(len(proxiesnames))"
   ]
  },
  {
   "cell_type": "markdown",
   "id": "0d2e8587",
   "metadata": {},
   "source": [
    "Iterate through the proxies, logging the first and last year they have a non-NaN value. __Note:__ this does not mean that there are complete (no NaN) records between the years, just the first and last year with a non-Nan value."
   ]
  },
  {
   "cell_type": "code",
   "execution_count": 5,
   "id": "db089b46",
   "metadata": {},
   "outputs": [],
   "source": [
    "for i in range(len(proxiesnames)):\n",
    "    t = X[proxiesnames[i]].dropna('year').get_index('year')\n",
    "    starts[i] = t[0] \n",
    "    ends[i] = t[len(t)-1]"
   ]
  },
  {
   "cell_type": "markdown",
   "id": "a465bd50",
   "metadata": {},
   "source": [
    "Zip the information together and sort it by the start year."
   ]
  },
  {
   "cell_type": "code",
   "execution_count": 6,
   "id": "d2f06e65",
   "metadata": {},
   "outputs": [
    {
     "name": "stdout",
     "output_type": "stream",
     "text": [
      "                               Proxy  Start Year  End Year\n",
      "0       DSS_winter_accumulation_rate       -11.0    2016.0\n",
      "1         DSS_winter_layer_thickness       -11.0    2016.0\n",
      "2                    DSS_winter_d180       -11.0    2016.0\n",
      "3                DSS_winter_sulphate       -11.0    2016.0\n",
      "4               DSS_winter_magnesium       -11.0    2016.0\n",
      "5                DSS_winter_chloride       -11.0    2016.0\n",
      "6                  DSS_winter_sodium       -11.0    2016.0\n",
      "7   DSS_summer_non_sea_salt_sulphate       -10.0    2015.0\n",
      "8                  DSS_winter_JJASON       -10.0    2016.0\n",
      "9                 DSS_summer_nitrate       -10.0    2015.0\n",
      "10                   DSS_winter_DJFM        -9.0    2016.0\n",
      "11                 DSS_winter_DJFMAM        -9.0    2016.0\n",
      "12                      Ferrigno_MSA      1702.0    2010.0\n",
      "13                          IC12_MSA      1753.0    2012.0\n",
      "14                          IC12_SO4      1753.0    2012.0\n",
      "15                           IC12_Na      1753.0    2012.0\n",
      "16                      Law_Dome_MSA      1841.0    1995.0\n",
      "17                           WHG_dex      1882.0    2006.0\n",
      "18                    AP_stacked_MSA      1902.0    2002.0\n",
      "19                     SOFI_duration      1903.0    2008.0\n",
      "20                     SOFI_breakout      1903.0    2008.0\n",
      "21                    SOFI_formation      1903.0    2008.0\n",
      "22                   MBS_Charlie_MSA      1965.0    2017.0\n",
      "23                    MBS_Charlie_Na      1965.0    2017.0\n",
      "24                   MBS_Charlie_SO4      1965.0    2017.0\n",
      "25                       MBS_Main_Na      1970.0    2008.0\n",
      "26                      MBS_Main_SO4      1970.0    2008.0\n",
      "27                      MBS_Main_MSA      1970.0    2008.0\n",
      "28                          TIR18_Na      1970.0    2016.0\n",
      "29                          FK17_SO4      1970.0    2017.0\n",
      "30                          FK17_MSA      1970.0    2017.0\n",
      "31                           FK17_Na      1970.0    2017.0\n",
      "32                         TIR18_SO4      1970.0    2016.0\n",
      "33                         TIR18_MSA      1970.0    2016.0\n",
      "34           MBS_Siteav_accum_annual      1975.0    2016.0\n",
      "35             MBS_Main_accum_annual      1975.0    2007.0\n",
      "36          MBS_Charlie_accum_annual      1975.0    2016.0\n",
      "37           MBS_Siteav_logCl_annual      1975.0    2016.0\n",
      "38             MBS_Main_logCl_annual      1975.0    2007.0\n",
      "39          MBS_Charlie_logCl_annual      1975.0    2016.0\n",
      "40             MBS_Main_logNa_annual      1975.0    2007.0\n",
      "41                   LD_logCl_annual      1975.0    2016.0\n",
      "42          MBS_Charlie_logNa_annual      1975.0    2016.0\n",
      "43           MBS_Siteav_LogNa_annual      1975.0    2016.0\n",
      "44                   LD_logCl_summer      1975.0    2015.0\n",
      "45                      MBS_Alpha_Na      1978.0    2017.0\n",
      "46                     MBS_Alpha_SO4      1978.0    2017.0\n",
      "47                     MBS_Alpha_MSA      1978.0    2017.0\n",
      "48            MBS_Alpha_logCl_annual      1979.0    2016.0\n",
      "49            MBS_Alpha_logNa_annual      1979.0    2016.0\n",
      "50            MBS_Alpha_accum_annual      1979.0    2016.0\n",
      "==========================================================\n"
     ]
    }
   ],
   "source": [
    "proxiesdates = pd.DataFrame(list(zip(proxiesnames,starts,ends)),\n",
    "                            columns = ['Proxy','Start Year','End Year'])\n",
    "proxiesdates = proxiesdates.sort_values(by = 'Start Year').reset_index(drop=True)\n",
    "print(proxiesdates)\n",
    "print(\"==========================================================\")"
   ]
  },
  {
   "cell_type": "markdown",
   "id": "b76f343d",
   "metadata": {},
   "source": [
    "---\n",
    "### Looking at complete proxy records for specified time periods\n",
    "\n",
    "Specify the start year."
   ]
  },
  {
   "cell_type": "code",
   "execution_count": 7,
   "id": "6a864001",
   "metadata": {},
   "outputs": [],
   "source": [
    "startyear = 1903"
   ]
  },
  {
   "cell_type": "markdown",
   "id": "7f17bf2d",
   "metadata": {},
   "source": [
    "Now run a loop over a specified range of end years to see how many proxies with complete records there are for each."
   ]
  },
  {
   "cell_type": "code",
   "execution_count": 8,
   "id": "526570dc",
   "metadata": {},
   "outputs": [
    {
     "name": "stdout",
     "output_type": "stream",
     "text": [
      "Predictors covering 1903 to 1995: 18\n",
      "Predictors covering 1903 to 1996: 17\n",
      "Predictors covering 1903 to 1997: 17\n",
      "Predictors covering 1903 to 1998: 17\n",
      "Predictors covering 1903 to 1999: 17\n",
      "Predictors covering 1903 to 2000: 17\n",
      "Predictors covering 1903 to 2001: 17\n",
      "Predictors covering 1903 to 2002: 17\n",
      "Predictors covering 1903 to 2003: 16\n",
      "Predictors covering 1903 to 2004: 16\n",
      "Predictors covering 1903 to 2005: 16\n",
      "Predictors covering 1903 to 2006: 16\n",
      "Predictors covering 1903 to 2007: 15\n",
      "Predictors covering 1903 to 2008: 15\n",
      "Predictors covering 1903 to 2009: 12\n",
      "Predictors covering 1903 to 2010: 12\n",
      "Predictors covering 1903 to 2011: 12\n",
      "Predictors covering 1903 to 2012: 12\n",
      "Predictors covering 1903 to 2013: 12\n",
      "Predictors covering 1903 to 2014: 12\n",
      "Predictors covering 1903 to 2015: 12\n",
      "Predictors covering 1903 to 2016: 10\n",
      "Predictors covering 1903 to 2017: 0\n",
      "Predictors covering 1903 to 2018: 0\n",
      "Predictors covering 1903 to 2019: 0\n",
      "Predictors covering 1903 to 2020: 0\n"
     ]
    }
   ],
   "source": [
    "for i in np.arange(1995,2021):\n",
    "    endyear = i\n",
    "    yvar = 'SIE'\n",
    "    \n",
    "    folder = '~/Desktop/IMAS/ncfiles/'  #filepath\n",
    "    pfile = 'Proxy_combined_data_v4.nc'  #proxy filename\n",
    "    xfile = 'CombinedProxies.nc'  #proxy filename\n",
    "    df = xr.open_dataset(folder+pfile).sel(year= slice(startyear, endyear))\n",
    "    X = xr.open_dataset(folder+xfile).sel(year= slice(startyear, endyear))\n",
    " \n",
    "    X = X.to_dataframe().dropna(axis=1).to_xarray()\n",
    "    print(\"Predictors covering {} to {}: {}\".format(startyear, i,len(X.data_vars)))"
   ]
  }
 ],
 "metadata": {
  "kernelspec": {
   "display_name": "Python 3 (ipykernel)",
   "language": "python",
   "name": "python3"
  },
  "language_info": {
   "codemirror_mode": {
    "name": "ipython",
    "version": 3
   },
   "file_extension": ".py",
   "mimetype": "text/x-python",
   "name": "python",
   "nbconvert_exporter": "python",
   "pygments_lexer": "ipython3",
   "version": "3.9.12"
  }
 },
 "nbformat": 4,
 "nbformat_minor": 5
}
