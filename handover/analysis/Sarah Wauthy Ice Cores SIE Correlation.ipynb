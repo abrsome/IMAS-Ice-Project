{
 "cells": [
  {
   "cell_type": "markdown",
   "id": "e9619529",
   "metadata": {},
   "source": [
    "# Sarah Wauthy Ice Cores SIE Correlation\n",
    "\n",
    "This script is for producing correlation heatmaps between SIE and the chemistry data in the ice cores from _Datasets_IC12_FK17_TIR18_SarahWauthy_ dataset."
   ]
  },
  {
   "cell_type": "code",
   "execution_count": null,
   "id": "f4605bd8",
   "metadata": {},
   "outputs": [],
   "source": [
    "import seaborn as sns\n",
    "import matplotlib.pyplot as plt\n",
    "import numpy as np\n",
    "import xarray as xr\n",
    "from scipy import stats\n",
    "from datetime import datetime"
   ]
  },
  {
   "cell_type": "markdown",
   "id": "b038639d",
   "metadata": {},
   "source": [
    "Set chosen core name to be one of: IC12, FK17, TIR18"
   ]
  },
  {
   "cell_type": "code",
   "execution_count": null,
   "id": "3b319b51",
   "metadata": {},
   "outputs": [],
   "source": [
    "core = 'FK17'"
   ]
  },
  {
   "cell_type": "markdown",
   "id": "34fa6142",
   "metadata": {},
   "source": [
    "Create an array of season acronymns."
   ]
  },
  {
   "cell_type": "code",
   "execution_count": null,
   "id": "9bb7bc9d",
   "metadata": {},
   "outputs": [],
   "source": [
    "seasons = ['OND','NDJ','DJF','JFM','FMA','MAM','AMJ','MJJ','JJA','JAS','ASO','SON','OND']"
   ]
  },
  {
   "cell_type": "markdown",
   "id": "f6c0a363",
   "metadata": {},
   "source": [
    "Open the needed datasets."
   ]
  },
  {
   "cell_type": "code",
   "execution_count": null,
   "id": "7ff0b742",
   "metadata": {},
   "outputs": [],
   "source": [
    "folder = '~/Desktop/IMAS/SarahIceCores/'  #filepath\n",
    "pfile = '~/Desktop/IMAS/Proxy_combined_data_v4.nc'  #proxy filename\n",
    "pvar = 'SIE'  #proxy sea ice extent variable name\n",
    "pdata = xr.open_dataset(pfile) #open proxy as Dataset\n",
    "mfile = core+'.nc'"
   ]
  },
  {
   "cell_type": "markdown",
   "id": "cecae44d",
   "metadata": {},
   "source": [
    "Loop through the 3 proxies in each dataset. Use the tickness of each sample to create a weighted average for the year to form a 'yearly' dataset. Then loop through each individual season/longitude intersection to produce a correlation at that point. Then plot the heatmap."
   ]
  },
  {
   "cell_type": "code",
   "execution_count": null,
   "id": "f38b97e6",
   "metadata": {},
   "outputs": [],
   "source": [
    "proxies = ['MSA','Na','SO4']\n",
    "for q in range(3):\n",
    "    proxy = proxies[q]\n",
    "    mdata = xr.open_dataset(folder+mfile)\n",
    "    corrs = np.zeros([12,36]) #Initialise an array of correlations\n",
    "    startyear = 1979  #first year of SIE, fixed as later than all proxies\n",
    "    endyear = 2012\n",
    "\n",
    "\n",
    "    # Do thicnkess weighting for the proxy.\n",
    "    for i in range(len(mdata['topdepth'])):\n",
    "        mdata[proxy][i] = mdata['thickness'][i]*mdata[proxy][i]\n",
    "    mdata = mdata.groupby(\"year\").mean()\n",
    "    \n",
    "    pts = mdata[proxy].sel(year = slice(startyear,endyear)) \n",
    "    \n",
    "    for m in range(12): #loop over the months\n",
    "        m+=1\n",
    "        months = [(m-3)%12+1, (m-2)%12+1, (m-1)%12+1] #nonneg month ints for season ending in m\n",
    "        monat = pdata[pvar].sel(year = slice(startyear,endyear), month=months)    \n",
    "        monat = monat.mean('month')\n",
    "        for l in np.arange(0.25,360,10): #loop over the longitudes by 10deg\n",
    "            sie = monat.sel(lon= slice(l, l+10-0.25))   \n",
    "            sie = sie.mean(dim='lon')\n",
    "            corrs[m-1,int((l-0.25)/10)] = stats.pearsonr(pts,sie)[0] #Place corcoef in corrs\n",
    "    \n",
    "    ax = plt.subplot()\n",
    "    \n",
    "    clev = [-0.8,-0.7,-0.6,-0.5,-0.4,0.4,0.5,0.6,0.7,0.8]  #contour levels\n",
    "    #clev = np.arange(-1, 1.1, 0.1)\n",
    "    corrsxr = xr.DataArray(corrs)\n",
    "    corrsxr.plot.pcolormesh(levels = clev)\n",
    "    \n",
    "    ax.set_title(core + ' ' +proxy)\n",
    "    ax.set_ylabel('Season')\n",
    "    #plt.yticks(ticks=np.arange(12))\n",
    "    ax.set_xlabel('Longitude')\n",
    "    ax.set_xticks(ticks=np.arange(3,36,3), labels=['','60E','','120E','','180','','120W','','60W',''])\n",
    "    ax.set_yticks(ticks=np.arange(-0.5,12,1), labels=seasons, rotation=0)\n",
    "    \n",
    "    plt.show()"
   ]
  },
  {
   "cell_type": "markdown",
   "id": "9c6d654a",
   "metadata": {},
   "source": [
    "__Note on seasonality:__ Pearson correlation of a time series for a given month will consider effect of annual changes. We will not see the effect of seasonality as correlation coefficients of months are calculated independently."
   ]
  }
 ],
 "metadata": {
  "kernelspec": {
   "display_name": "Python 3 (ipykernel)",
   "language": "python",
   "name": "python3"
  },
  "language_info": {
   "codemirror_mode": {
    "name": "ipython",
    "version": 3
   },
   "file_extension": ".py",
   "mimetype": "text/x-python",
   "name": "python",
   "nbconvert_exporter": "python",
   "pygments_lexer": "ipython3",
   "version": "3.9.12"
  }
 },
 "nbformat": 4,
 "nbformat_minor": 5
}
