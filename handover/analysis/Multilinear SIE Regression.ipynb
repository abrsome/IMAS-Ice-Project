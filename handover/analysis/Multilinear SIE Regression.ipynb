{
 "cells": [
  {
   "cell_type": "markdown",
   "id": "3876630f",
   "metadata": {},
   "source": [
    "# Multilinear SIE Regression\n",
    "\n",
    "This script is for generating a multilinear model for SIE regression. This model can serve as a placeholder for current regressions of SIE, so that we have something to compare the RF to. It produces heatmaps of error up to 5% and 30%. The mode of prediction is _individual_, meaning a new MLR model is used for each month/lon intersection."
   ]
  },
  {
   "cell_type": "markdown",
   "id": "fa3efc93",
   "metadata": {},
   "source": [
    "---\n",
    "### Building the model"
   ]
  },
  {
   "cell_type": "code",
   "execution_count": null,
   "id": "a5f0087e",
   "metadata": {},
   "outputs": [],
   "source": [
    "import pandas as pd\n",
    "import numpy as np\n",
    "import xarray as xr\n",
    "import matplotlib.pyplot as plt\n",
    "from sklearn import metrics"
   ]
  },
  {
   "cell_type": "markdown",
   "id": "fbcfdb0d",
   "metadata": {},
   "source": [
    "Load in data from specified years."
   ]
  },
  {
   "cell_type": "code",
   "execution_count": null,
   "id": "87f585f6",
   "metadata": {},
   "outputs": [],
   "source": [
    "startyear = 1979\n",
    "endyear = 1995\n",
    "yvar = 'SIE'\n",
    "\n",
    "folder = '~/Desktop/IMAS/'  #filepath\n",
    "pfile = 'Proxy_combined_data_v4.nc'  #proxy filename\n",
    "df = xr.open_dataset(folder+pfile).sel(year= slice(startyear, endyear))"
   ]
  },
  {
   "cell_type": "markdown",
   "id": "82c60d69",
   "metadata": {},
   "source": [
    "Create an array to store the root mean square error as percentage of mean for each prediction."
   ]
  },
  {
   "cell_type": "code",
   "execution_count": null,
   "id": "a64d9ddf",
   "metadata": {},
   "outputs": [],
   "source": [
    "rmsepom = np.zeros([12,36]) #Initialise an array of correlations"
   ]
  },
  {
   "cell_type": "markdown",
   "id": "18b11e12",
   "metadata": {},
   "source": [
    "Get a value for mean SIE.  __Note:__ another option could be to use the mean SIE in each grid box for error calculations."
   ]
  },
  {
   "cell_type": "code",
   "execution_count": null,
   "id": "544bace8",
   "metadata": {},
   "outputs": [],
   "source": [
    "mean_sie = df['SIE'].mean('month').mean('lon').mean('year')"
   ]
  },
  {
   "cell_type": "markdown",
   "id": "141b2985",
   "metadata": {},
   "source": [
    "Get train and test year lists."
   ]
  },
  {
   "cell_type": "code",
   "execution_count": null,
   "id": "1a2c31f3",
   "metadata": {},
   "outputs": [],
   "source": [
    "years = np.arange(startyear, endyear+1)\n",
    "testyears = np.sort(np.random.choice(years, size = int(len(years)*0.33), replace = False))\n",
    "trainyears = [x for x in years if x not in testyears]"
   ]
  },
  {
   "cell_type": "markdown",
   "id": "c6c46d78",
   "metadata": {},
   "source": [
    "Get train and test sets of predictor data, and standard scale them."
   ]
  },
  {
   "cell_type": "code",
   "execution_count": null,
   "id": "685e4c41",
   "metadata": {},
   "outputs": [],
   "source": [
    "X = df[(list(df.keys())[1:])].mean('month')\n",
    "X_train = X.sel(year = trainyears).to_dataframe().values\n",
    "X_test = X.sel(year = testyears).to_dataframe().values\n",
    "\n",
    "#Standardise values\n",
    "from sklearn.preprocessing import StandardScaler\n",
    "sc = StandardScaler()\n",
    "X_train = sc.fit_transform(X_train)\n",
    "X_test = sc.transform(X_test)"
   ]
  },
  {
   "cell_type": "markdown",
   "id": "0e902c27",
   "metadata": {},
   "source": [
    "Build each individual model, recording its error."
   ]
  },
  {
   "cell_type": "code",
   "execution_count": null,
   "id": "db96e2a2",
   "metadata": {},
   "outputs": [],
   "source": [
    "for m in range(12): #loop over the months\n",
    "    m+=1\n",
    "    months = [(m-3)%12+1, (m-2)%12+1, (m-1)%12+1] #nonneg month ints for season ending in m\n",
    "    monat = df[yvar].sel(month=months) #overlapping years w/ WHG    \n",
    "    monat = monat.mean('month')\n",
    "    for l in np.arange(0.25,360,10): #loop over the longitudes\n",
    "        y = monat.sel(lon= slice(l, l+10)).mean(dim='lon')\n",
    "        y_train = y.sel(year = trainyears).to_dataframe().values\n",
    "        y_test = y.sel(year = testyears).to_dataframe().values\n",
    "        \n",
    "        #Training model\n",
    "        from sklearn.linear_model import LinearRegression\n",
    "        mlr = LinearRegression()\n",
    "        mlr.fit(X_train, y_train)\n",
    "        y_pred = mlr.predict(X_test)\n",
    "        rmse = np.sqrt(metrics.mean_squared_error(y_test, y_pred))\n",
    "        \n",
    "        #1**: Do mean SIE local to test set\n",
    "        #mean_sie = y_test.mean()\n",
    "        \n",
    "        rmsepom[m-1,int((l-0.25)/10)] = 100*rmse/mean_sie"
   ]
  },
  {
   "cell_type": "markdown",
   "id": "cf131bdc",
   "metadata": {},
   "source": [
    "---\n",
    "### Analysing the model"
   ]
  },
  {
   "cell_type": "markdown",
   "id": "9963a879",
   "metadata": {},
   "source": [
    "Print some general metrics."
   ]
  },
  {
   "cell_type": "code",
   "execution_count": null,
   "id": "c3bc20d9",
   "metadata": {},
   "outputs": [],
   "source": [
    "print('Error in '+yvar+' predictions using Multi Linear Regression')\n",
    "print('RMSE % minimum: ', rmsepom.min())\n",
    "print('RMSE % maximum: ', rmsepom.max())\n",
    "print('RMSE % mean: ', rmsepom.mean())"
   ]
  },
  {
   "cell_type": "markdown",
   "id": "f0c53516",
   "metadata": {},
   "source": [
    "Plot error heatmap to 30%:"
   ]
  },
  {
   "cell_type": "code",
   "execution_count": null,
   "id": "7645b0b7",
   "metadata": {},
   "outputs": [],
   "source": [
    "ax = plt.subplot()\n",
    "\n",
    "clev = np.arange(0,30,2)  #contour levels\n",
    "rmsepomxr = xr.DataArray(rmsepom)\n",
    "rmsepomxr.plot.pcolormesh(levels = clev,cmap = 'cividis')\n",
    "\n",
    "ax.set_title('Error in '+yvar+' predictions using Multi Linear Regression')\n",
    "ax.set_ylabel('Season')\n",
    "ax.set_xlabel('Longitude')\n",
    "seasons = ['OND','NDJ','DJF','JFM','FMA','MAM','AMJ','MJJ','JJA','JAS','ASO','SON','OND']\n",
    "ax.set_xticks(ticks=np.arange(3,36,3), labels=['','60E','','120E','','180','','120W','','60W',''])\n",
    "ax.set_yticks(ticks=np.arange(-0.5,12,1), labels=seasons, rotation=0)\n",
    "\n",
    "plt.show()"
   ]
  },
  {
   "cell_type": "markdown",
   "id": "efce7c7e",
   "metadata": {},
   "source": [
    "Plot error heatmap to 5%:"
   ]
  },
  {
   "cell_type": "code",
   "execution_count": null,
   "id": "fade3ac1",
   "metadata": {},
   "outputs": [],
   "source": [
    "ax = plt.subplot()\n",
    "\n",
    "clev = np.arange(0,5,.25)  #contour levels\n",
    "rmsepomxr = xr.DataArray(rmsepom)\n",
    "rmsepomxr.plot.pcolormesh(levels = clev, cmap = 'cividis')\n",
    "\n",
    "ax.set_title('Error in '+yvar+' predictions using Multi Linear Regression')\n",
    "ax.set_ylabel('Season')\n",
    "ax.set_xlabel('Longitude')\n",
    "seasons = ['OND','NDJ','DJF','JFM','FMA','MAM','AMJ','MJJ','JJA','JAS','ASO','SON','OND']\n",
    "ax.set_xticks(ticks=np.arange(3,36,3), labels=['','60E','','120E','','180','','120W','','60W',''])\n",
    "ax.set_yticks(ticks=np.arange(-0.5,12,1), labels=seasons, rotation=0)\n",
    "\n",
    "plt.show()"
   ]
  }
 ],
 "metadata": {
  "kernelspec": {
   "display_name": "Python 3 (ipykernel)",
   "language": "python",
   "name": "python3"
  },
  "language_info": {
   "codemirror_mode": {
    "name": "ipython",
    "version": 3
   },
   "file_extension": ".py",
   "mimetype": "text/x-python",
   "name": "python",
   "nbconvert_exporter": "python",
   "pygments_lexer": "ipython3",
   "version": "3.9.12"
  }
 },
 "nbformat": 4,
 "nbformat_minor": 5
}
